{
  "nbformat": 4,
  "nbformat_minor": 0,
  "metadata": {
    "colab": {
      "name": "Q3altalt.ipynb",
      "provenance": [],
      "collapsed_sections": [],
      "include_colab_link": true
    },
    "kernelspec": {
      "name": "python3",
      "display_name": "Python 3"
    },
    "language_info": {
      "name": "python"
    }
  },
  "cells": [
    {
      "cell_type": "markdown",
      "metadata": {
        "id": "view-in-github",
        "colab_type": "text"
      },
      "source": [
        "<a href=\"https://colab.research.google.com/github/KLAU-S/SRIP2022/blob/main/Q3altalt.ipynb\" target=\"_parent\"><img src=\"https://colab.research.google.com/assets/colab-badge.svg\" alt=\"Open In Colab\"/></a>"
      ]
    },
    {
      "cell_type": "markdown",
      "source": [
        "Importing necessary packages and modules"
      ],
      "metadata": {
        "id": "A6YdezfHd0C4"
      }
    },
    {
      "cell_type": "code",
      "metadata": {
        "id": "8-SzJ0NTKRP1"
      },
      "source": [
        "import numpy as np\n",
        "import jax.numpy as jnp\n",
        "from jax.scipy.special import logsumexp\n",
        "import jax\n",
        "from jax import jit, vmap, pmap, grad, value_and_grad\n",
        "\n",
        "from torchvision.datasets import MNIST\n",
        "from torch.utils.data import DataLoader"
      ],
      "execution_count": 8,
      "outputs": []
    },
    {
      "cell_type": "markdown",
      "source": [
        "INIT MLP Fuction"
      ],
      "metadata": {
        "id": "c1GBJyWReLyN"
      }
    },
    {
      "cell_type": "code",
      "metadata": {
        "colab": {
          "base_uri": "https://localhost:8080/"
        },
        "id": "G4NrxSVjKt8f",
        "outputId": "cdb42244-3f6a-4f15-ed56-94ef689d568b"
      },
      "source": [
        "seed = 0\n",
        "mnist_img_size = (28, 28)\n",
        "\n",
        "def init_MLP(layer_widths, parent_key, scale=0.01):#making the standard deviation smaller by a factor of 100\n",
        "\n",
        "    params = []\n",
        "    keys = jax.random.split(parent_key, num=len(layer_widths)-1) #using jax.random.split to create key\n",
        "\n",
        "    for in_width, out_width, key in zip(layer_widths[:-1], layer_widths[1:], keys):\n",
        "        weight_key, bias_key = jax.random.split(key)\n",
        "        params.append([\n",
        "                       scale*jax.random.normal(weight_key, shape=(out_width, in_width)), #sample data from normal distribution, its a convention to use out_width first\n",
        "                       scale*jax.random.normal(bias_key, shape=(out_width,))\n",
        "                       ]\n",
        "        )\n",
        "\n",
        "    return params\n",
        "\n",
        "# test\n",
        "key = jax.random.PRNGKey(seed)\n",
        "MLP_params = init_MLP([784, 512, 256, 10], key)\n",
        "print(jax.tree_map(lambda x: x.shape, MLP_params)) #here using tree map fuctionality from jax in order to understand if it is correct"
      ],
      "execution_count": 9,
      "outputs": [
        {
          "output_type": "stream",
          "name": "stdout",
          "text": [
            "[[(512, 784), (512,)], [(256, 512), (256,)], [(10, 256), (10,)]]\n"
          ]
        }
      ]
    },
    {
      "cell_type": "markdown",
      "source": [
        "Now we can create MLP_predict function"
      ],
      "metadata": {
        "id": "0kSSikPMf4Bz"
      }
    },
    {
      "cell_type": "code",
      "metadata": {
        "colab": {
          "base_uri": "https://localhost:8080/"
        },
        "id": "U_z7eLxINv9x",
        "outputId": "a891aad4-f7e6-4bfb-e313-8c0777b23ce2"
      },
      "source": [
        "def MLP_predict(params, x):\n",
        "    hidden_layers = params[:-1] #the first two layers\n",
        "\n",
        "    activation = x\n",
        "    for w, b in hidden_layers:\n",
        "        activation = jax.nn.relu(jnp.dot(w, activation) + b)\n",
        "\n",
        "    w_last, b_last = params[-1]\n",
        "    logits = jnp.dot(w_last, activation) + b_last #last layer will not have relu, ie logits\n",
        "    # the optimization is done here instead of sigmoid we used logsumxp\n",
        "      # log(exp(o1)) - log(sum(exp(o1), exp(o2), ..., exp(o10)))\n",
        "      # log( exp(o1) / sum(...) )\n",
        "    return logits - logsumexp(logits)\n",
        "\n",
        "# test batched function\n",
        "batched_MLP_predict = vmap(MLP_predict, in_axes=(None, 0))\n",
        "\n",
        "# testing our prediction function\n",
        "img_flat = np.random.randn(16, np.prod(mnist_img_size))\n",
        "print(img_flat.shape)\n",
        "predictions = batched_MLP_predict(MLP_params, img_flat)\n",
        "print(predictions.shape)"
      ],
      "execution_count": 10,
      "outputs": [
        {
          "output_type": "stream",
          "name": "stdout",
          "text": [
            "(16, 784)\n",
            "(16, 10)\n"
          ]
        }
      ]
    },
    {
      "cell_type": "code",
      "metadata": {
        "colab": {
          "base_uri": "https://localhost:8080/"
        },
        "id": "5pPM1dZ4QyYe",
        "outputId": "d001359e-b8d9-4366-ada3-4fdbe42a4407"
      },
      "source": [
        "def custom_transform(x): # this converts the img data imported from torvision into numpy array\n",
        "    return np.ravel(np.array(x, dtype=np.float32)) #ravel to flatten the img\n",
        "\n",
        "def custom_collate_fn(batch): #pytorch by default creates a tesor if we do not collate\n",
        "    transposed_data = list(zip(*batch)) #basically we want all of the images batched into sinle numpy array and separate the labels\n",
        "\n",
        "    labels = np.array(transposed_data[1])\n",
        "    imgs = np.stack(transposed_data[0]) #np.array will work too\n",
        "\n",
        "    return imgs, labels\n",
        "\n",
        "batch_size = 128\n",
        "train_dataset = MNIST(root='train_mnist', train=True, download=True, transform=custom_transform)\n",
        "test_dataset = MNIST(root='test_mnist', train=False, download=True, transform=custom_transform) \n",
        "\n",
        "train_loader = DataLoader(train_dataset, batch_size, shuffle=True, collate_fn=custom_collate_fn, drop_last=True)\n",
        "test_loader = DataLoader(test_dataset, batch_size, shuffle=False, collate_fn=custom_collate_fn, drop_last=True)\n",
        "\n",
        "# test\n",
        "batch_data = next(iter(train_loader))\n",
        "imgs = batch_data[0]\n",
        "lbls = batch_data[1]\n",
        "print(imgs.shape, imgs[0].dtype, lbls.shape, lbls[0].dtype)"
      ],
      "execution_count": 15,
      "outputs": [
        {
          "output_type": "stream",
          "name": "stdout",
          "text": [
            "(128, 784) float32 (128,) int64\n"
          ]
        }
      ]
    },
    {
      "cell_type": "code",
      "source": [
        "# optimization - loading the whole dataset into memory\n",
        "train_images = jnp.array(train_dataset.data).reshape(len(train_dataset), -1)\n",
        "train_lbls = jnp.array(train_dataset.targets)\n",
        "\n",
        "test_images = jnp.array(test_dataset.data).reshape(len(test_dataset), -1)\n",
        "test_lbls = jnp.array(test_dataset.targets)"
      ],
      "metadata": {
        "id": "-NlOoJrOjwxt"
      },
      "execution_count": 12,
      "outputs": []
    },
    {
      "cell_type": "markdown",
      "source": [
        "Training loop function"
      ],
      "metadata": {
        "id": "FEAyzcFSj16A"
      }
    },
    {
      "cell_type": "code",
      "metadata": {
        "id": "YQEYcSNzVeim",
        "colab": {
          "base_uri": "https://localhost:8080/"
        },
        "outputId": "4c6a2607-511f-4474-f4f4-70ea82ed8737"
      },
      "source": [
        "num_epochs = 5\n",
        "\n",
        "def loss_fn(params, imgs, gt_lbls):\n",
        "    predictions = batched_MLP_predict(params, imgs) #if pred-->1; log(pred)-->0, basically to achieve numerical stability of cross-entropy loss\n",
        "\n",
        "    return -jnp.mean(predictions * gt_lbls)\n",
        "\n",
        "def accuracy(params, dataset_imgs, dataset_lbls):\n",
        "    pred_classes = jnp.argmax(batched_MLP_predict(params, dataset_imgs), axis=1)\n",
        "    return jnp.mean(dataset_lbls == pred_classes)\n",
        "\n",
        "@jit\n",
        "def update(params, imgs, gt_lbls, lr=0.01):\n",
        "    loss, grads = value_and_grad(loss_fn)(params, imgs, gt_lbls)\n",
        "\n",
        "    return loss, jax.tree_multimap(lambda p, g: p - lr*g, params, grads)\n",
        "\n",
        "# Create a MLP\n",
        "MLP_params = init_MLP([np.prod(mnist_img_size), 512, 256, len(MNIST.classes)], key)\n",
        "\n",
        "for epoch in range(num_epochs):\n",
        "\n",
        "    for cnt, (imgs, lbls) in enumerate(train_loader): #imgs is handled by the cpu\n",
        "\n",
        "        gt_labels = jax.nn.one_hot(lbls, len(MNIST.classes)) #we need to convert lables in one hot format like this\n",
        "        \n",
        "        loss, MLP_params = update(MLP_params, imgs, gt_labels)\n",
        "        \n",
        "        if cnt % 50 == 0:\n",
        "            print(loss)\n",
        "\n",
        "    print(f'Epoch {epoch}, train acc = {accuracy(MLP_params, train_images, train_lbls)} test acc = {accuracy(MLP_params, test_images, test_lbls)}')\n"
      ],
      "execution_count": 13,
      "outputs": [
        {
          "output_type": "stream",
          "name": "stdout",
          "text": [
            "0.24450009\n",
            "0.102100134\n",
            "0.053462207\n",
            "0.05178548\n",
            "0.049099486\n",
            "0.04034349\n",
            "0.03899252\n",
            "0.031825\n",
            "0.027432278\n",
            "0.030016864\n",
            "Epoch 0, train acc = 0.9149333238601685 test acc = 0.9186999797821045\n",
            "0.030430693\n",
            "0.031242771\n",
            "0.030983621\n",
            "0.016161537\n",
            "0.032483526\n",
            "0.051843114\n",
            "0.03814584\n",
            "0.025845742\n",
            "0.032332614\n",
            "0.021481676\n",
            "Epoch 1, train acc = 0.9312166571617126 test acc = 0.930899977684021\n",
            "0.015570849\n",
            "0.025742281\n",
            "0.01678057\n",
            "0.024321416\n",
            "0.036136616\n",
            "0.024162928\n",
            "0.025622189\n",
            "0.014117542\n",
            "0.020730626\n",
            "0.01735934\n",
            "Epoch 2, train acc = 0.946399986743927 test acc = 0.9434999823570251\n",
            "0.025960783\n",
            "0.029987603\n",
            "0.012807402\n",
            "0.022900797\n",
            "0.02327393\n",
            "0.015400998\n",
            "0.0129143065\n",
            "0.01214964\n",
            "0.02870189\n",
            "0.015495139\n",
            "Epoch 3, train acc = 0.9538000226020813 test acc = 0.9498999714851379\n",
            "0.015471431\n",
            "0.016103638\n",
            "0.012219399\n",
            "0.018784469\n",
            "0.012087885\n",
            "0.012560335\n",
            "0.011888418\n",
            "0.013257957\n",
            "0.017400807\n",
            "0.012561786\n",
            "Epoch 4, train acc = 0.9594833254814148 test acc = 0.9536999464035034\n"
          ]
        }
      ]
    },
    {
      "cell_type": "code",
      "metadata": {
        "colab": {
          "base_uri": "https://localhost:8080/",
          "height": 317
        },
        "id": "YmdBRBvU1wuA",
        "outputId": "697a97fd-f82b-4cc3-89b2-f6963820fcb4"
      },
      "source": [
        "imgs, lbls = next(iter(test_loader))\n",
        "img = imgs[0].reshape(mnist_img_size)\n",
        "gt_lbl = lbls[0]\n",
        "print(img.shape)\n",
        "\n",
        "import matplotlib.pyplot as plt\n",
        "\n",
        "pred = jnp.argmax(MLP_predict(MLP_params, np.ravel(img)))\n",
        "print('pred', pred)\n",
        "print('gt', gt_lbl)\n",
        "\n",
        "plt.imshow(img); plt.show()"
      ],
      "execution_count": 14,
      "outputs": [
        {
          "output_type": "stream",
          "name": "stdout",
          "text": [
            "(28, 28)\n",
            "pred 7\n",
            "gt 7\n"
          ]
        },
        {
          "output_type": "display_data",
          "data": {
            "text/plain": [
              "<Figure size 432x288 with 1 Axes>"
            ],
            "image/png": "[encoded data removed]"
          },
          "metadata": {
            "needs_background": "light"
          }
        }
      ]
    }
  ]
}